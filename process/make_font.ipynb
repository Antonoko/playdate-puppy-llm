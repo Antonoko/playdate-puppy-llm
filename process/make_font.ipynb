{
 "cells": [
  {
   "cell_type": "code",
   "execution_count": 29,
   "metadata": {},
   "outputs": [],
   "source": [
    "import math\n",
    "import os\n",
    "from PIL import Image, ImageFont, ImageDraw"
   ]
  },
  {
   "cell_type": "code",
   "execution_count": 30,
   "metadata": {},
   "outputs": [],
   "source": [
    "# Configuration\n",
    "# macOS 下路径写法可能需要调整\n",
    "\n",
    "# 准备生成的字体信息\n",
    "CELL_SIZE = 18      # 每个容纳文字的格子大小\n",
    "FONT_SIZE = 16      # 文字目标大小\n",
    "FONT_FILEPATH = 'CabinetGrotesk-Thin.ttf'    # 字体文件路径\n",
    "\n",
    "OUTPUT_PLAYDATE_FONT_NAME = 'CabinetGrotesk-Thin-16'   # 生成的 Playdate 字体名字\n",
    "OUTPUT_DIR = 'output'    # 输出文件夹路径"
   ]
  },
  {
   "cell_type": "code",
   "execution_count": 31,
   "metadata": {},
   "outputs": [],
   "source": [
    "# 高级设置，一般无需更改\n",
    "\n",
    "# 需要生成的字表\n",
    "# character_table 下默认为三个等级的通用规范汉字表，可根据所需增删。\n",
    "TEXT_TABLE_FILEPATH = []\n",
    "\n",
    "text_table_characters = \"\"\n",
    "for filepath in TEXT_TABLE_FILEPATH:\n",
    "    with open(filepath, encoding=\"utf-8\") as f:\n",
    "        lines = [line.strip() for line in f]\n",
    "    text_table_characters += \"\".join(lines)\n",
    "\n",
    "TEXT_LATIN_SET = \" !\\\"#$%&'()*+,-./0123456789:;<=>?@ABCDEFGHIJKLMNOPQRSTUVWXYZ[\\]^_`abcdefghijklmnopqrstuvwxyz{|}~…¥‼™©®\"\n",
    "TEXT_PUNCTUATION = \"\"\n",
    "TEXT_JAPANESE_KANA = \"\"\n",
    "\n",
    "TEXT_TABLE_STR = TEXT_LATIN_SET + TEXT_PUNCTUATION + TEXT_JAPANESE_KANA + text_table_characters + \"�\"\n",
    "\n",
    "IMAGE_TABLE_CELL_WIDTH_CNT = math.isqrt(len(TEXT_TABLE_STR))\n",
    "\n",
    "_, FONT_Y_OFFSET, _, _ = ImageFont.truetype(FONT_FILEPATH, FONT_SIZE).getbbox(\"啊\")   # （自动计算）字体垂直坐标的偏移值\n",
    "FONT_Y_OFFSET = 2                                                                      # （手动设置）字体垂直坐标的偏移值\n",
    "# print(f\"{FONT_Y_OFFSET=}\")"
   ]
  },
  {
   "cell_type": "code",
   "execution_count": 32,
   "metadata": {},
   "outputs": [],
   "source": [
    "def create_image(text=TEXT_TABLE_STR, font_file=FONT_FILEPATH, cell_size=CELL_SIZE, font_size=FONT_SIZE, font_y_offset=FONT_Y_OFFSET, width_cell_cnt=IMAGE_TABLE_CELL_WIDTH_CNT):\n",
    "    # 加载字体文件\n",
    "    font = ImageFont.truetype(font_file, font_size)\n",
    "  \n",
    "    # 计算图像大小\n",
    "    width = width_cell_cnt * cell_size\n",
    "    height = ((len(text) - 1) // width_cell_cnt + 1) * cell_size\n",
    "    print(f\"{width=}, {height=}\")\n",
    "\n",
    "    # 创建透明图像\n",
    "    image = Image.new(\"RGBA\", (width, height), (0, 0, 0, 0))\n",
    "    draw = ImageDraw.Draw(image)\n",
    "\n",
    "    # 渲染每个字符\n",
    "    for i, char in enumerate(text):\n",
    "        x = (i % width_cell_cnt) * cell_size\n",
    "        y = (i // width_cell_cnt) * cell_size\n",
    "        pos = (x, y-font_y_offset)\n",
    "        draw.text(pos, char, font=font, fill=(0, 0, 0, 255))\n",
    "    \n",
    "    return image\n",
    "\n",
    "\n",
    "def get_font_width(font_file, font_size, text):\n",
    "    font = ImageFont.truetype(font_file, font_size)\n",
    "    # left, top, right, bottom = font.getbbox(text)\n",
    "    width = font.getlength(text)\n",
    "    return int(width)\n",
    "\n",
    "\n",
    "def generate_fnt_table(text=TEXT_TABLE_STR):\n",
    "    font_table = []\n",
    "    for i, char in enumerate(text):\n",
    "        font_width = get_font_width(font_file=FONT_FILEPATH, font_size=FONT_SIZE, text=char)\n",
    "        if char == \" \":\n",
    "            char = \"space\"\n",
    "        font_table.append(f\"{char}\t\t{font_width}\")\n",
    "    \n",
    "    with open(os.path.join(OUTPUT_DIR, f\"{OUTPUT_PLAYDATE_FONT_NAME}.fnt\"), 'w', encoding='utf-8') as file:\n",
    "        file.write('\\n'.join(font_table))"
   ]
  },
  {
   "cell_type": "code",
   "execution_count": 33,
   "metadata": {},
   "outputs": [
    {
     "name": "stdout",
     "output_type": "stream",
     "text": [
      "width=180, height=198\n"
     ]
    },
    {
     "ename": "",
     "evalue": "",
     "output_type": "error",
     "traceback": [
      "\u001b[1;31mThe Kernel crashed while executing code in the current cell or a previous cell. \n",
      "\u001b[1;31mPlease review the code in the cell(s) to identify a possible cause of the failure. \n",
      "\u001b[1;31mClick <a href='https://aka.ms/vscodeJupyterKernelCrash'>here</a> for more info. \n",
      "\u001b[1;31mView Jupyter <a href='command:jupyter.viewOutput'>log</a> for further details."
     ]
    }
   ],
   "source": [
    "if not os.path.exists(OUTPUT_DIR):\n",
    "    os.makedirs(OUTPUT_DIR)\n",
    "\n",
    "img = create_image()\n",
    "img.save(os.path.join(OUTPUT_DIR, f\"{OUTPUT_PLAYDATE_FONT_NAME}-table-{CELL_SIZE}-{CELL_SIZE}.png\"))\n",
    "generate_fnt_table()"
   ]
  }
 ],
 "metadata": {
  "kernelspec": {
   "display_name": "Python 3",
   "language": "python",
   "name": "python3"
  },
  "language_info": {
   "codemirror_mode": {
    "name": "ipython",
    "version": 3
   },
   "file_extension": ".py",
   "mimetype": "text/x-python",
   "name": "python",
   "nbconvert_exporter": "python",
   "pygments_lexer": "ipython3",
   "version": "3.11.8"
  }
 },
 "nbformat": 4,
 "nbformat_minor": 2
}
