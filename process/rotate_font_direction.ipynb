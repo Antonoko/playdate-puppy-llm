{
 "cells": [
  {
   "cell_type": "code",
   "execution_count": 6,
   "metadata": {},
   "outputs": [],
   "source": [
    "from PIL import Image\n",
    "import numpy as np\n",
    "import os"
   ]
  },
  {
   "cell_type": "code",
   "execution_count": 7,
   "metadata": {},
   "outputs": [],
   "source": [
    "# Configuration\n",
    "# macOS 下路径写法可能需要调整\n",
    "\n",
    "# 已生成的 Playdate 字体图片路径\n",
    "FONT_IMAGE_TABLE_FILEPATH = \"rabbit-table-105-105.png\"\n",
    "# 输出文件夹路径\n",
    "OUTPUT_DIR = 'output'\n",
    "\n",
    "# 旋转方向：\n",
    "# rotate_right_90   顺时针旋转 90°\n",
    "# rotate_left_90    逆时针旋转 90°\n",
    "# rotate_180        旋转 180°\n",
    "ROTATE_DIRECTION = \"rotate_right_90\"\n",
    "# 跳过前多少个字符不进行旋转。如果使用 make_font.ipynb 生成的字体，设置为 101 可以跳过半角拉丁字母与符号\n",
    "SKIP_ROTATION = 0"
   ]
  },
  {
   "cell_type": "code",
   "execution_count": 8,
   "metadata": {},
   "outputs": [],
   "source": [
    "FONT_GRID_WIDTH_HEIGHT = os.path.basename(FONT_IMAGE_TABLE_FILEPATH).replace(\".png\", \"\").split(\"-table-\")[1:][0].split(\"-\")"
   ]
  },
  {
   "cell_type": "code",
   "execution_count": 9,
   "metadata": {},
   "outputs": [],
   "source": [
    "def rotate_img_cells(img_path):\n",
    "    img = Image.open(img_path)\n",
    "    width, height = img.size\n",
    "\n",
    "    cell_width = int(FONT_GRID_WIDTH_HEIGHT[0])\n",
    "    cell_height = int(FONT_GRID_WIDTH_HEIGHT[1])\n",
    "    \n",
    "    # 将图片转为numpy数组\n",
    "    img_array = np.array(img)\n",
    "\n",
    "    skip_count = 0\n",
    "    \n",
    "    # 从左到右，从上到下顺时针旋转90度每个格子内的像素\n",
    "    for i in range(0, height, cell_height):\n",
    "        for j in range(0, width, cell_width):\n",
    "            if skip_count < SKIP_ROTATION:\n",
    "                skip_count += 1\n",
    "                continue\n",
    "\n",
    "            cell = img_array[i:i + cell_height, j:j + cell_width]\n",
    "            if ROTATE_DIRECTION == \"rotate_right_90\":\n",
    "                cell_rotated = np.flip(np.transpose(cell, (1, 0, 2)), 1)\n",
    "            elif ROTATE_DIRECTION == \"rotate_left_90\":\n",
    "                cell_rotated = np.flip(np.transpose(cell, (1, 0, 2)), 0)\n",
    "            elif ROTATE_DIRECTION == \"rotate_180\":\n",
    "                cell_rotated = np.flip(np.flip(cell, 0), 1)\n",
    "            img_array[i:i + cell_height, j:j + cell_width] = cell_rotated\n",
    "            \n",
    "    # 保存结果\n",
    "    rotated_img = Image.fromarray(img_array)\n",
    "    rotated_img.save(os.path.join(OUTPUT_DIR, os.path.basename(img_path)))"
   ]
  },
  {
   "cell_type": "code",
   "execution_count": 10,
   "metadata": {},
   "outputs": [],
   "source": [
    "if not os.path.exists(OUTPUT_DIR):\n",
    "    os.makedirs(OUTPUT_DIR)\n",
    "\n",
    "rotate_img_cells(FONT_IMAGE_TABLE_FILEPATH)"
   ]
  }
 ],
 "metadata": {
  "kernelspec": {
   "display_name": "Python 3",
   "language": "python",
   "name": "python3"
  },
  "language_info": {
   "codemirror_mode": {
    "name": "ipython",
    "version": 3
   },
   "file_extension": ".py",
   "mimetype": "text/x-python",
   "name": "python",
   "nbconvert_exporter": "python",
   "pygments_lexer": "ipython3",
   "version": "3.11.8"
  }
 },
 "nbformat": 4,
 "nbformat_minor": 2
}
