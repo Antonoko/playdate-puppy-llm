{
 "cells": [
  {
   "cell_type": "code",
   "execution_count": 2,
   "metadata": {},
   "outputs": [
    {
     "name": "stdout",
     "output_type": "stream",
     "text": [
      "['H', 'i', ' ', 't', 'h', 'e', 'r', 'e', '!', ' ', 'I', \"'\", 'm', ' ', 'L', 'L', 'a', 'M', 'A', ',', ' ', 'a', 'n', ' ', 'A', 'I', ' ', 'a', 's', 's', 'i', 's', 't', 'a', 'n', 't', ' ', 'd', 'e', 'v', 'e', 'l', 'o', 'p', 'e', 'd', ' ', 'b', 'y', ' ', 'M', 'e', 't', 'a', ' ', 'A', 'I', ' ', 't', 'h', 'a', 't', ' ', 'c', 'a', 'n', ' ', 'u', 'n', 'd', 'e', 'r', 's', 't', 'a', 'n', 'd', ' ', 'a', 'n', 'd', ' ', 'r', 'e', 's', 'p', 'o', 'n', 'd', ' ', 't', 'o', ' ', 'h', 'u', 'm', 'a', 'n', ' ', 'i', 'n', 'p', 'u', 't', ' ', 'i', 'n', ' ', 'a', ' ', 'c', 'o', 'n', 'v', 'e', 'r', 's', 'a', 't', 'i', 'o', 'n', 'a', 'l', ' ', 'm', 'a', 'n', 'n', 'e', 'r', '.', ' ', 'I', \"'\", 'm', ' ', 'n', 'o', 't', ' ', 'a', ' ', 'h', 'u', 'm', 'a', 'n', ',', ' ', 'b', 'u', 't', ' ', 'a', ' ', 'c', 'o', 'm', 'p', 'u', 't', 'e', 'r', ' ', 'p', 'r', 'o', 'g', 'r', 'a', 'm', ' ', 'd', 'e', 's', 'i', 'g', 'n', 'e', 'd', ' ', 't', 'o', ' ', 's', 'i', 'm', 'u', 'l', 'a', 't', 'e', ' ', 'c', 'o', 'n', 'v', 'e', 'r', 's', 'a', 't', 'i', 'o', 'n', ' ', 'a', 'n', 'd', ' ', 'a', 'n', 's', 'w', 'e', 'r', ' ', 'q', 'u', 'e', 's', 't', 'i', 'o', 'n', 's', ' ', 't', 'o', ' ', 't', 'h', 'e', ' ', 'b', 'e', 's', 't', ' ', 'o', 'f', ' ', 'm', 'y', ' ', 'a', 'b', 'i', 'l', 'i', 't', 'i', 'e', 's', '.', ' ', 'I', \"'\", 'm', ' ', 'h', 'e', 'r', 'e', ' ', 't', 'o', ' ', 'h', 'e', 'l', 'p', ' ', 'a', 'n', 'd', ' ', 'c', 'h', 'a', 't', ' ', 'w', 'i', 't', 'h', ' ', 'y', 'o', 'u', ',', ' ', 's', 'o', ' ', 'f', 'e', 'e', 'l', ' ', 'f', 'r', 'e', 'e', ' ', 't', 'o', ' ', 'a', 's', 'k', ' ', 'm', 'e', ' ', 'a', 'n', 'y', 't', 'h', 'i', 'n', 'g', '!']\n"
     ]
    }
   ],
   "source": [
    "lst = []\n",
    "txt = \"Hi there! I\"m LLaMA, an AI assistant developed by Meta AI that can understand and respond to human input in a conversational manner. I\"m not a human, but a computer program designed to simulate conversation and answer questions to the best of my abilities. I\"m here to help and chat with you, so feel free to ask me anything!\"\n",
    "for i in txt:\n",
    "    lst.append(i)\n",
    "\n",
    "print(lst)"
   ]
  }
 ],
 "metadata": {
  "kernelspec": {
   "display_name": "Python 3",
   "language": "python",
   "name": "python3"
  },
  "language_info": {
   "codemirror_mode": {
    "name": "ipython",
    "version": 3
   },
   "file_extension": ".py",
   "mimetype": "text/x-python",
   "name": "python",
   "nbconvert_exporter": "python",
   "pygments_lexer": "ipython3",
   "version": "3.11.8"
  }
 },
 "nbformat": 4,
 "nbformat_minor": 2
}
