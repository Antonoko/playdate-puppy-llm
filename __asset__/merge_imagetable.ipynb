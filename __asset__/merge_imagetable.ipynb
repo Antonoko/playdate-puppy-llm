{
 "cells": [
  {
   "cell_type": "code",
   "execution_count": 2,
   "metadata": {},
   "outputs": [
    {
     "ename": "",
     "evalue": "",
     "output_type": "error",
     "traceback": [
      "\u001b[1;31mThe Kernel crashed while executing code in the current cell or a previous cell. \n",
      "\u001b[1;31mPlease review the code in the cell(s) to identify a possible cause of the failure. \n",
      "\u001b[1;31mClick <a href='https://aka.ms/vscodeJupyterKernelCrash'>here</a> for more info. \n",
      "\u001b[1;31mView Jupyter <a href='command:jupyter.viewOutput'>log</a> for further details."
     ]
    }
   ],
   "source": [
    "import os\n",
    "from PIL import Image\n",
    "\n",
    "def concatenate_images(directory):\n",
    "    # 获取所有图片文件名\n",
    "    files = sorted([os.path.join(directory,i) for i in os.listdir(directory) if i.endswith(\".png\")])\n",
    "\n",
    "    # 打开每一张图片并添加到列表中\n",
    "    images = [Image.open(x) for x in files]\n",
    "\n",
    "    # 获取每张图片的尺寸\n",
    "    widths, heights = zip(*(i.size for i in images))\n",
    "\n",
    "    # 计算合成图的总宽度和最大高度\n",
    "    total_width = sum(widths)\n",
    "    max_height = max(heights)\n",
    "\n",
    "    # 创建一个新的透明背景图片\n",
    "    new_img = Image.new('RGBA', (total_width, max_height))\n",
    "\n",
    "    # 连接所有图片\n",
    "    x_offset = 0\n",
    "    for img in images:\n",
    "        new_img.paste(img, (x_offset,0))\n",
    "        x_offset += img.width\n",
    "\n",
    "    # 保存新图片\n",
    "    new_img.save(\"puppy-table-110-110.png\")\n",
    "\n",
    "concatenate_images(\"animation-seq\")"
   ]
  }
 ],
 "metadata": {
  "kernelspec": {
   "display_name": "Python 3",
   "language": "python",
   "name": "python3"
  },
  "language_info": {
   "codemirror_mode": {
    "name": "ipython",
    "version": 3
   },
   "file_extension": ".py",
   "mimetype": "text/x-python",
   "name": "python",
   "nbconvert_exporter": "python",
   "pygments_lexer": "ipython3",
   "version": "3.11.8"
  }
 },
 "nbformat": 4,
 "nbformat_minor": 2
}
